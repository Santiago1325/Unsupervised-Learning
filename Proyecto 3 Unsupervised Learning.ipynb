{
 "cells": [
  {
   "cell_type": "markdown",
   "metadata": {},
   "source": [
    "# What to Watch?\n",
    "\n",
    "Debido a la pandemia el profesor Alexander no ha tenido tiempo de ver peliculas. Sin embargo, ya que el semestre llegará a su fin dentro de poco, el quisiera tener un sistema de recomendación que le indique que peliculas le podrian gustar. Para esto pensó que, como sus estudiantes de Machine Learning tienen conocimiento de diferentes técnicas de aprendizaje no supervisado, sería una buena oportunidad para evaluar sus conocimiento en esta area.\n",
    "\n",
    "El profesor encontro una base de datos de ratings de peliculas, la descripción pueden encontrala [aquí](https://grouplens.org/datasets/movielens/100k/), y los archivos estan adjuntos en la carpeta del taller. Esta base de datos cuenta con la calificación de 943 usuarios a 1682 peliculas, en total se dispone de mil califiicaciones (entre 0 y 5). Ademas de la lista que relaciona al usuario con la pelicula y el rating dado, el profesor cuenta con información sobre el genero al que pertenece la pelicula (una clasificación de 19 generos diferentes), asi mismo como información relacionada con edad, sexo, y profesion de los diferents usuarios.\n",
    "\n",
    "Para este ejercicio el profesor Alexander no quiere probar solamente el conocimiento de sus estudiantes en el desarrollo de sistemas de recomendación, sino en el uso de diferentes tecnicas de aprendizaje no supervisado. Por lo tanto se deben emplear diferentes técnicas de las vistas en clase. Para este proyecto el profesor cuenta con la siguiente información en diferentes archivos de excel:\n",
    "\n",
    "1. **u_data_ratings.xls**: rating de peliculas asignado por un usuario a una pelicula especifica.\n",
    "2. **u_movies_genre.xls**: enumeración de los 20 diferentes generos de peliculas incluidos en la base de datos.\n",
    "3. **u_movies_items.xls**: un archivo que contiene información relacionada con cada una de las peliculas.\n",
    "5. **u_user_info.xls**: información relacionada a los usuarios.\n",
    "\n",
    "Para el desarrollo de este ejercicio el profesor Alexander pide lo siguiente:\n",
    "\n",
    "1. Desarrollar un sistema de recomendación de peliculas basado en la información proporcionada.\n",
    "2. Realizar un analisis y descripción de la información presentada utilizando herramientas de aprendizaje no supervisado. ¿Qué puede decir de los datos y su distribución?, ¿qué grupos pueden encontrar?, ¿qué indican esos grupos?, etc...\n",
    "\n",
    "¿Qué se debe entregar?\n",
    "\n",
    "1. Analisis de la información presentada. ¿Qué se puede inferir de los datos?\n",
    "2. Implementación y explicación del sistema de recomendación. Análisis de los resultados del sistema de recomendación utilizando un ejemplo.\n",
    "3. ¿Cómo puedo evaluar que peliculas le podrian gustar a un usuario nuevo (que no este en la base de datos) basado en las calificaciones que este da a una serie de peliculas?\n",
    "4. Análisis sobre como incorporar toda la información otorgada.\n",
    "5. ¿Qué se puede inferir sobre los diferentes usuarios y sus gustos en peliculas? se puede encontrar alguna relación entre edad, profesión, sexo y genero de peliculas que les gusta a estos grupos? ¿Cómo se podria obtener esta información?\n",
    "6. Durante el desarrollo de cada uno de los puntos del taller indique los métodos utilizados y explique la forma como los utiliza.\n",
    "7. Una discusión sobre el desarrollo del proyecto, los metodos utilizados, posibles mejoras, etc..\n",
    "\n",
    "\n"
   ]
  },
  {
   "cell_type": "code",
   "execution_count": 18,
   "metadata": {},
   "outputs": [],
   "source": [
    "import os\n",
    "import numpy as np\n",
    "import pandas as pd\n",
    "\n",
    "files = os.listdir('data')\n",
    "\n",
    "df = pd.read_excel(r'data\\u_data.xlsx', sheet_name='u')\n",
    "\n"
   ]
  },
  {
   "cell_type": "code",
   "execution_count": 53,
   "metadata": {},
   "outputs": [],
   "source": [
    "X = np.zeros((943,1682))\n",
    "\n",
    "for i in range(10000):\n",
    "    fila = df.iloc[i,0] - 1\n",
    "    columna = df.iloc[i,1] - 1\n",
    "    X[fila][columna] = df.iloc[i,2]\n",
    "       "
   ]
  },
  {
   "cell_type": "code",
   "execution_count": 56,
   "metadata": {},
   "outputs": [
    {
     "data": {
      "text/plain": [
       "array([0., 0., 0., ..., 0., 0., 0.])"
      ]
     },
     "execution_count": 56,
     "metadata": {},
     "output_type": "execute_result"
    }
   ],
   "source": [
    "X[1]"
   ]
  },
  {
   "cell_type": "markdown",
   "metadata": {},
   "source": [
    "# Paint it\n",
    "\n",
    "El profesor Alexander, además de dedicarse a Netflix en sus vacaciones, quiere también retomar su interes por el arte. Para esto el requiere que los estudiantes de Machine Learning le colaboren con sus conocimientos en cuantización de Color. Debido a la pandemia el profesor no ppuede salir a comprar pinturas, y su paleta de colores es bastante limitada, menos de 20 tonos. Por esta razón, el profesor pide que utilicen las obras de arte que se adjuntan en la carpeta de imágenes, y realicen un proceso de cuantización de color con mapas autoorganizados. Para este proceso deben seguir tener en cuenta:\n",
    "\n",
    "1. ¿Cuantos colores van a utilizar?\n",
    "2. ¿Cuál es la mejor pintura que el profesor podria realizar con los colores que ustedes proponen?\n",
    "3. Mostrar como se verian las pinturas utilizando solamente la limitada paleta de la cual dispone el profesor.\n",
    "4. Para este taller podemos utilizar la libreria simpSOM, domumentación sobre la libreria pueden encontrarla [aquí](https://github.com/fcomitani/SimpSOM). O esta otra que esta implementada en Python, pero basada en la libreria de MATLAB [aquí](https://github.com/sevamoo/SOMPY).\n",
    "\n",
    "\n",
    "Ademas el profesor pide que ocntesten las siguientes preguntas:\n",
    "\n",
    "1. ¿Esta agusto con la cuantización relaizada?\n",
    "2. ¿Cómo puede mejorar lso resultados?\n",
    "3. Describa brevemente que han hecho los mapas autoorganizados. Puede usar figuras, gráficas, etc para complementar esta respuesta.\n",
    "4. ¿Qué problemas tuvo a la hora de realizar esta parte del proyecto?\n",
    "\n",
    "\n",
    "Finalmente, el profesor Alexander les pide que entreguen el notebook de jupyter con el material de apoyo necesario, el código documentado con el análisis de cada una de las partes, y las respuestas a las preguntas realizadas. Al entregar el notebook, por favor use la convención Número_de_grupo_No_Supervisado.\n",
    "\n",
    "Recuerde colocar los nombres de los participantes al comienzo del notebook que entregan.\n",
    "\n",
    "Nota: Recuerden que tienen hasta el **Domingo 31 de Octubre** a las 12 de la noche para entregar sus notebooks. Mucha suerte!!"
   ]
  }
 ],
 "metadata": {
  "interpreter": {
   "hash": "3512fe551087d4c5bf6a7a02bb137a0c4c8f7e1819ff4c467ac212b114f9ea5a"
  },
  "kernelspec": {
   "display_name": "Python 3.8.0 64-bit",
   "name": "python3"
  },
  "language_info": {
   "codemirror_mode": {
    "name": "ipython",
    "version": 3
   },
   "file_extension": ".py",
   "mimetype": "text/x-python",
   "name": "python",
   "nbconvert_exporter": "python",
   "pygments_lexer": "ipython3",
   "version": "3.8.0"
  }
 },
 "nbformat": 4,
 "nbformat_minor": 2
}
